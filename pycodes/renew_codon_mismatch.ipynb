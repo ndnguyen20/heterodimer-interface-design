{
 "cells": [
  {
   "cell_type": "code",
   "execution_count": 1,
   "metadata": {},
   "outputs": [],
   "source": [
    "import numpy as np\n",
    "import pandas as pd\n",
    "import collections"
   ]
  },
  {
   "cell_type": "code",
   "execution_count": null,
   "metadata": {},
   "outputs": [],
   "source": []
  },
  {
   "cell_type": "code",
   "execution_count": 12,
   "metadata": {},
   "outputs": [],
   "source": [
    "def translate(seq): \n",
    "    seq = seq.upper()\n",
    "    seq_cut = seq[:len(seq)-len(seq)%3]\n",
    "    table = { \n",
    "        'ATA':'I', 'ATC':'I', 'ATT':'I', 'ATG':'M', \n",
    "        'ACA':'T', 'ACC':'T', 'ACG':'T', 'ACT':'T', \n",
    "        'AAC':'N', 'AAT':'N', 'AAA':'K', 'AAG':'K', \n",
    "        'AGC':'S', 'AGT':'S', 'AGA':'R', 'AGG':'R',                  \n",
    "        'CTA':'L', 'CTC':'L', 'CTG':'L', 'CTT':'L', \n",
    "        'CCA':'P', 'CCC':'P', 'CCG':'P', 'CCT':'P', \n",
    "        'CAC':'H', 'CAT':'H', 'CAA':'Q', 'CAG':'Q', \n",
    "        'CGA':'R', 'CGC':'R', 'CGG':'R', 'CGT':'R', \n",
    "        'GTA':'V', 'GTC':'V', 'GTG':'V', 'GTT':'V', \n",
    "        'GCA':'A', 'GCC':'A', 'GCG':'A', 'GCT':'A', \n",
    "        'GAC':'D', 'GAT':'D', 'GAA':'E', 'GAG':'E', \n",
    "        'GGA':'G', 'GGC':'G', 'GGG':'G', 'GGT':'G', \n",
    "        'TCA':'S', 'TCC':'S', 'TCG':'S', 'TCT':'S', \n",
    "        'TTC':'F', 'TTT':'F', 'TTA':'L', 'TTG':'L', \n",
    "        'TAC':'Y', 'TAT':'Y', 'TAA':'_', 'TAG':'_', \n",
    "        'TGC':'C', 'TGT':'C', 'TGA':'_', 'TGG':'W', \n",
    "    }  \n",
    "    protein =\"\" \n",
    "    for i in range(0, len(seq_cut), 3): \n",
    "        codon = seq_cut[i:i + 3] \n",
    "        protein+= table[codon]\n",
    "    if len(seq)%3 != 0:\n",
    "        protein+=\"-\"\n",
    "    #print(protein.lower())\n",
    "    return protein.upper()"
   ]
  },
  {
   "cell_type": "code",
   "execution_count": 58,
   "metadata": {},
   "outputs": [],
   "source": [
    "seq = \"agtaGTttgAGcgtg\"\n",
    "mut_seq=\"agtaGAGtgAGcgtg\""
   ]
  },
  {
   "cell_type": "code",
   "execution_count": 65,
   "metadata": {},
   "outputs": [
    {
     "data": {
      "text/plain": [
       "'sslsv'"
      ]
     },
     "execution_count": 65,
     "metadata": {},
     "output_type": "execute_result"
    }
   ],
   "source": [
    "translate(seq)"
   ]
  },
  {
   "cell_type": "code",
   "execution_count": 66,
   "metadata": {},
   "outputs": [
    {
     "data": {
      "text/plain": [
       "'srvsv'"
      ]
     },
     "execution_count": 66,
     "metadata": {},
     "output_type": "execute_result"
    }
   ],
   "source": [
    "translate(mut_seq)"
   ]
  },
  {
   "cell_type": "code",
   "execution_count": 91,
   "metadata": {},
   "outputs": [],
   "source": [
    "boolean = []\n",
    "for i in range(len(translate(seq))):\n",
    "    if (translate(seq)[i] == translate(mut_seq)[i]):\n",
    "        boolean.append('T')\n",
    "    else:\n",
    "        boolean.append('F')"
   ]
  },
  {
   "cell_type": "code",
   "execution_count": 107,
   "metadata": {},
   "outputs": [
    {
     "data": {
      "text/plain": [
       "[0, 3, 4]"
      ]
     },
     "execution_count": 107,
     "metadata": {},
     "output_type": "execute_result"
    }
   ],
   "source": [
    "group = [k for k in range(len(boolean)) if boolean[k]=='T']\n",
    "group"
   ]
  },
  {
   "cell_type": "code",
   "execution_count": 175,
   "metadata": {},
   "outputs": [],
   "source": [
    "def score_codon_mismatch(codon1, codon2):\n",
    "    score = 0\n",
    "    for i in range(len(codon1)):\n",
    "        if codon1[i] != codon2[i]:\n",
    "            score +=1\n",
    "    return score\n",
    "#codon table deleted of rare codons in E coli\n",
    "table = { \n",
    "        'ATA':'I', 'ATC':'I', 'ATT':'I', 'ATG':'M', \n",
    "        'ACA':'T', 'ACC':'T', 'ACG':'T', 'ACT':'T', \n",
    "        'AAC':'N', 'AAT':'N', 'AAA':'K', 'AAG':'K', \n",
    "        'AGC':'S', 'AGT':'S',                 \n",
    "        'CTA':'L', 'CTC':'L', 'CTG':'L', 'CTT':'L', \n",
    "        'CCA':'P',  'CCG':'P', 'CCT':'P', \n",
    "        'CAC':'H', 'CAT':'H', 'CAA':'Q', 'CAG':'Q', \n",
    "             'CGC':'R', 'CGT':'R', \n",
    "        'GTA':'V', 'GTC':'V', 'GTG':'V', 'GTT':'V', \n",
    "        'GCA':'A', 'GCC':'A', 'GCG':'A', 'GCT':'A', \n",
    "        'GAC':'D', 'GAT':'D', 'GAA':'E', 'GAG':'E', \n",
    "        'GGA':'G', 'GGC':'G', 'GGG':'G', 'GGT':'G', \n",
    "        'TCA':'S', 'TCC':'S', 'TCG':'S', 'TCT':'S', \n",
    "        'TTC':'F', 'TTT':'F', 'TTA':'L', 'TTG':'L', \n",
    "        'TAC':'Y', 'TAT':'Y', 'TAA':'_', 'TAG':'_', \n",
    "        'TGC':'C', 'TGT':'C', 'TGA':'_', 'TGG':'W', \n",
    "    }\n",
    "def nu_favored_replacement(codon, mut_codon,table=table):\n",
    "    codon = codon.upper()\n",
    "    mut_codon = mut_codon.upper()\n",
    "    codon_list = []\n",
    "    for k,v in table.items():\n",
    "        codon_list.append([k,v]) \n",
    "    codon_list = np.array(codon_list)\n",
    "    #print(codon_list)\n",
    "    counter = collections.Counter(codon_list[:,1])\n",
    "    replicates = np.array([k for k in counter.values()])\n",
    "    aa = np.array([k for k in counter.keys()])\n",
    "    #print(codon_list[:,1])\n",
    "    if (codon in codon_list[:,0]) and (mut_codon in codon_list[:,0]):\n",
    "        aa_codon = table[codon]\n",
    "        #print(aa_codon)\n",
    "        aa_mut_codon = table[mut_codon]\n",
    "        #aa_where = [i for i in range(len(aa)) if aa_codon==aa[i]]\n",
    "        codons = np.array([codon_list[i,0] for i in range(codon_list.shape[0]) if codon_list[i,1]==aa_codon])\n",
    "        #print(codons)\n",
    "        mut_codons = np.array([codon_list[i,0] for i in range(codon_list.shape[0]) if codon_list[i,1]==aa_mut_codon])\n",
    "        dim = codons.shape[0]*mut_codons.shape[0]\n",
    "        matching_scores = np.zeros((dim))\n",
    "        matching_pairs = np.empty((dim,2), dtype='>U10')\n",
    "        count = 0\n",
    "        for i in range(codons.shape[0]):\n",
    "            #print (codons[i])\n",
    "            for j in range(mut_codons.shape[0]):\n",
    "                matching_scores[count] = score_codon_mismatch(codons[i],mut_codons[j])\n",
    "                matching_pairs[count] = np.array([codons[i],mut_codons[j]])\n",
    "                count +=1\n",
    "        min_match = np.argmin(matching_scores)\n",
    "        #print(matching_pairs)\n",
    "        #print(codons[5])\n",
    "        if matching_pairs[min_match,0] == codon:\n",
    "            new_codon = codon.lower()\n",
    "        else:\n",
    "            new_codon = matching_pairs[min_match,0].upper()\n",
    "        #print(new_codon)\n",
    "        #print(matching_pairs)\n",
    "    else:\n",
    "        new_codon = codon.lower()\n",
    "    #print(new_codon)\n",
    "    return new_codon\n",
    "            \n",
    "    \n",
    "    \n",
    "def renew_codon(seq, mut_seq):\n",
    "    seq = seq.lower()\n",
    "    mut_seq = mut_seq.lower()\n",
    "    protein = translate(seq)\n",
    "    mut_protein = translate(mut_seq)\n",
    "    aa_detect = []\n",
    "    for i in range(len(protein)):\n",
    "        if (protein[i] == mut_protein[i]):\n",
    "            aa_detect.append('T')\n",
    "        else:\n",
    "            aa_detect.append('F')\n",
    "    aa_detect_index = [k for k in range(len(aa_detect)) if aa_detect[k]=='F']\n",
    "    for k in aa_detect_index:\n",
    "        new_codon = list(nu_favored_replacement(seq[3*k:3*k+3],mut_seq[3*k:3*k+3]))\n",
    "        #codon_replaced = seq[3*k:3*k+3]\n",
    "        seq_list = list(seq)\n",
    "        seq_list[3*k:3*k+3] = new_codon\n",
    "        seq = ''.join(seq_list)\n",
    "        #codon_replaced.replace(codon_replaced, new_codon)\n",
    "        #print(codon_replaced)\n",
    "    return seq\n",
    "    \n",
    "def renew_codon_from_mut_protein(seq, mut_protein,table=table):\n",
    "    seq = seq.lower()\n",
    "    mut_protein = mut_protein.upper()\n",
    "    protein = translate(seq)\n",
    "    aa_detect=[]\n",
    "    for i in range(len(protein)):\n",
    "        if (protein[i] == mut_protein[i]):\n",
    "            aa_detect.append('T')\n",
    "        else:\n",
    "            aa_detect.append('F')\n",
    "    #print(aa_detect)\n",
    "    aa_detect_index = np.array([k for k in range(len(aa_detect)) if aa_detect[k]=='F'])\n",
    "    codon_list = []\n",
    "    for k,v in table.items():\n",
    "        codon_list.append([k,v]) \n",
    "    codon_list = np.array(codon_list)\n",
    "    #for mut_point in aa_detect_index:\n",
    "    #print(aa_detect_index)\n",
    "    for mut_point in aa_detect_index:\n",
    "        mut_codons = np.array([codon_list[i,0] for i in range(codon_list.shape[0]) if codon_list[i,1]==mut_protein[mut_point]])\n",
    "    #print(mut_codons)\n",
    "        matching_scores = np.zeros((mut_codons.shape[0]))  \n",
    "        #print(mut_codons.shape[0])\n",
    "        #print(aa_detect_index.shape)\n",
    "        #print(mut_codons.shape)\n",
    "        new_codons = np.empty((mut_codons.shape[0]), dtype='<U10')\n",
    "        count = 0\n",
    "        \n",
    "        for mut_codon in mut_codons:\n",
    "            #print(mut_codon)\n",
    "            codon_replaced = seq[3*mut_point:3*mut_point+3]\n",
    "            new_codon = nu_favored_replacement(codon_replaced,mut_codon)\n",
    "            matching_scores[count]=score_codon_mismatch(new_codon,mut_codon)\n",
    "            new_codons[count] = new_codon\n",
    "            count+=1\n",
    "            #print(new_codons)\n",
    "        min_score = np.argmin(matching_scores)\n",
    "            #print(matching_scores)\n",
    "            #print(min_score)\n",
    "        new_codon = new_codons[min_score]\n",
    "    #check this\n",
    "        #print(new_codons)\n",
    "        new_codon = list(new_codon)\n",
    "        #print(new_codon)\n",
    "        seq_list = list(seq)\n",
    "        seq_list[3*mut_point:3*mut_point+3] = new_codon\n",
    "        #print(new_codon)\n",
    "        seq = ''.join(seq_list)\n",
    "            #count+=1\n",
    "        #seq = seq.replace(codon_replaced, new_codons[min_score])\n",
    "    return seq"
   ]
  },
  {
   "cell_type": "code",
   "execution_count": 176,
   "metadata": {},
   "outputs": [
    {
     "data": {
      "text/plain": [
       "'atgagtatgttgGTAgtgGTAactgaaaatgtacctccgcgcttacgaggcagattagccatctggttgCTAgagGTCcgtgcaggggtatatgtaggtgatgtatccgcaaaaattcgtgaaatgatctgggaacaaatagctggactggcggaagaaggcaatgtagtgatgGCCtggGCCacgaatacggaaacgggatttgagttccagacaTTCgggttaaacagg'"
      ]
     },
     "execution_count": 176,
     "metadata": {},
     "output_type": "execute_result"
    }
   ],
   "source": [
    "seq = \"atgagtatgttggtcgtggtcactgaaaatgtacctccgcgcttacgaggcagattagccatctggttgttggaggtacgtgcaggggtatatgtaggtgatgtatccgcaaaaattcgtgaaatgatctgggaacaaatagctggactggcggaagaaggcaatgtagtgatggcatgggcaacgaatacggaaacgggatttgagttccagacatttgggttaaacagg\"\n",
    "mut_seq = \"atgagtaGTttgAGcgtgTAcactgaaaatgtacctccgcgcttacgaggcagattagccatctggttgttggagCtacgtgcagggTACtatCtaggtgatgtatccgcaaaaattcgtgaaatgatctgggaacaaatagctggactggcggaagaaggcaatgtaCtgatgTcatggTcaacgaatacggaaacgggattAgagttGcagacatttgggttaaacagg\"\n",
    "mut_protein = \"MSLLEVSTENVPPRLRGRLAIWLVEFRAGSYIGDVSAKIREMIWEQIAGLAEEGNVVMNWYTNTETGFEYQTYGLNQ\"\n",
    "#renew_codon(seq,mut_seq)\n",
    "renew_codon_from_mut_protein(seq,mut_protein)"
   ]
  },
  {
   "cell_type": "code",
   "execution_count": 83,
   "metadata": {
    "scrolled": true
   },
   "outputs": [
    {
     "data": {
      "text/plain": [
       "'MSMLVVVTENVPPRLRGRLAIWLLEVRAGVYVGDVSAKIREMIWEQIAGLAEEGNVVMAWATNTETGFEFQTFGLNR'"
      ]
     },
     "execution_count": 83,
     "metadata": {},
     "output_type": "execute_result"
    }
   ],
   "source": [
    "translate(seq)"
   ]
  },
  {
   "cell_type": "code",
   "execution_count": 155,
   "metadata": {},
   "outputs": [
    {
     "ename": "ValueError",
     "evalue": "'Y' is not in list",
     "output_type": "error",
     "traceback": [
      "\u001b[0;31m---------------------------------------------------------------------------\u001b[0m",
      "\u001b[0;31mValueError\u001b[0m                                Traceback (most recent call last)",
      "\u001b[0;32m<ipython-input-155-46cf68e0e270>\u001b[0m in \u001b[0;36m<module>\u001b[0;34m\u001b[0m\n\u001b[0;32m----> 1\u001b[0;31m \u001b[0mcodon_list\u001b[0m\u001b[0;34m.\u001b[0m\u001b[0mindex\u001b[0m\u001b[0;34m(\u001b[0m\u001b[0;34m'Y'\u001b[0m\u001b[0;34m)\u001b[0m\u001b[0;34m\u001b[0m\u001b[0;34m\u001b[0m\u001b[0m\n\u001b[0m",
      "\u001b[0;31mValueError\u001b[0m: 'Y' is not in list"
     ]
    }
   ],
   "source": [
    "[codon_list[i,0] for i in range(codon_list.shape[0]) if ]"
   ]
  },
  {
   "cell_type": "code",
   "execution_count": 156,
   "metadata": {},
   "outputs": [],
   "source": []
  },
  {
   "cell_type": "code",
   "execution_count": 184,
   "metadata": {},
   "outputs": [
    {
     "ename": "ValueError",
     "evalue": "not enough values to unpack (expected 2, got 1)",
     "output_type": "error",
     "traceback": [
      "\u001b[0;31m---------------------------------------------------------------------------\u001b[0m",
      "\u001b[0;31mValueError\u001b[0m                                Traceback (most recent call last)",
      "\u001b[0;32m<ipython-input-184-b1bb100338eb>\u001b[0m in \u001b[0;36m<module>\u001b[0;34m\u001b[0m\n\u001b[1;32m      1\u001b[0m \u001b[0mcounter\u001b[0m \u001b[0;34m=\u001b[0m \u001b[0mcollections\u001b[0m\u001b[0;34m.\u001b[0m\u001b[0mCounter\u001b[0m\u001b[0;34m(\u001b[0m\u001b[0mcodon_list\u001b[0m\u001b[0;34m[\u001b[0m\u001b[0;34m:\u001b[0m\u001b[0;34m,\u001b[0m\u001b[0;36m1\u001b[0m\u001b[0;34m]\u001b[0m\u001b[0;34m)\u001b[0m\u001b[0;34m\u001b[0m\u001b[0;34m\u001b[0m\u001b[0m\n\u001b[0;32m----> 2\u001b[0;31m \u001b[0;34m[\u001b[0m\u001b[0;34m[\u001b[0m\u001b[0mk\u001b[0m\u001b[0;34m,\u001b[0m\u001b[0mv\u001b[0m\u001b[0;34m]\u001b[0m \u001b[0;32mfor\u001b[0m \u001b[0mk\u001b[0m\u001b[0;34m,\u001b[0m\u001b[0mv\u001b[0m \u001b[0;32min\u001b[0m \u001b[0mcounter\u001b[0m\u001b[0;34m]\u001b[0m\u001b[0;34m\u001b[0m\u001b[0;34m\u001b[0m\u001b[0m\n\u001b[0m",
      "\u001b[0;32m<ipython-input-184-b1bb100338eb>\u001b[0m in \u001b[0;36m<listcomp>\u001b[0;34m(.0)\u001b[0m\n\u001b[1;32m      1\u001b[0m \u001b[0mcounter\u001b[0m \u001b[0;34m=\u001b[0m \u001b[0mcollections\u001b[0m\u001b[0;34m.\u001b[0m\u001b[0mCounter\u001b[0m\u001b[0;34m(\u001b[0m\u001b[0mcodon_list\u001b[0m\u001b[0;34m[\u001b[0m\u001b[0;34m:\u001b[0m\u001b[0;34m,\u001b[0m\u001b[0;36m1\u001b[0m\u001b[0;34m]\u001b[0m\u001b[0;34m)\u001b[0m\u001b[0;34m\u001b[0m\u001b[0;34m\u001b[0m\u001b[0m\n\u001b[0;32m----> 2\u001b[0;31m \u001b[0;34m[\u001b[0m\u001b[0;34m[\u001b[0m\u001b[0mk\u001b[0m\u001b[0;34m,\u001b[0m\u001b[0mv\u001b[0m\u001b[0;34m]\u001b[0m \u001b[0;32mfor\u001b[0m \u001b[0mk\u001b[0m\u001b[0;34m,\u001b[0m\u001b[0mv\u001b[0m \u001b[0;32min\u001b[0m \u001b[0mcounter\u001b[0m\u001b[0;34m]\u001b[0m\u001b[0;34m\u001b[0m\u001b[0;34m\u001b[0m\u001b[0m\n\u001b[0m",
      "\u001b[0;31mValueError\u001b[0m: not enough values to unpack (expected 2, got 1)"
     ]
    }
   ],
   "source": [
    "\n",
    "[[k,v] for k,v in counter]"
   ]
  },
  {
   "cell_type": "code",
   "execution_count": 187,
   "metadata": {},
   "outputs": [
    {
     "data": {
      "text/plain": [
       "dict_keys(['I', 'M', 'T', 'N', 'K', 'S', 'R', 'L', 'P', 'H', 'Q', 'V', 'A', 'D', 'E', 'G', 'F', 'Y', '_', 'C', 'W'])"
      ]
     },
     "execution_count": 187,
     "metadata": {},
     "output_type": "execute_result"
    }
   ],
   "source": [
    "counter.keys()"
   ]
  },
  {
   "cell_type": "code",
   "execution_count": null,
   "metadata": {},
   "outputs": [],
   "source": []
  }
 ],
 "metadata": {
  "kernelspec": {
   "display_name": "Python 3",
   "language": "python",
   "name": "python3"
  },
  "language_info": {
   "codemirror_mode": {
    "name": "ipython",
    "version": 3
   },
   "file_extension": ".py",
   "mimetype": "text/x-python",
   "name": "python",
   "nbconvert_exporter": "python",
   "pygments_lexer": "ipython3",
   "version": "3.6.8"
  }
 },
 "nbformat": 4,
 "nbformat_minor": 2
}
